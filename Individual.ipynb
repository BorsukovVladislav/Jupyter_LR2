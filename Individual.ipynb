{
 "cells": [
  {
   "cell_type": "markdown",
   "id": "90140c10",
   "metadata": {},
   "source": [
    "1. Дана целочисленная прямоугольная матрица. Определить:\n",
    "- количество строк, не содержащих ни одного нулевого элемента;\n",
    "- максимальное из чисел, встречающихся в заданной матрице более одного раза."
   ]
  },
  {
   "cell_type": "code",
   "execution_count": 43,
   "id": "7f8236df",
   "metadata": {},
   "outputs": [
    {
     "name": "stdout",
     "output_type": "stream",
     "text": [
      "[[  1   4   8  -6  -1]\n",
      " [  4 -10  -5  -8   9]\n",
      " [ -7  -2  -5   0   2]\n",
      " [  8  -5  -7  -9 -10]\n",
      " [ -2  -1   6  -1  -9]]\n"
     ]
    }
   ],
   "source": [
    "import numpy as np\n",
    "\n",
    "matrix = np.random.randint (-10, 11, (5, 5))\n",
    "print(matrix)"
   ]
  },
  {
   "cell_type": "code",
   "execution_count": 33,
   "id": "69339334",
   "metadata": {},
   "outputs": [
    {
     "name": "stdout",
     "output_type": "stream",
     "text": [
      "Количество строк без нулей: 4\n"
     ]
    }
   ],
   "source": [
    "k = 0\n",
    "for i in range(5):\n",
    "    if 0 not in matrix[i, :]:\n",
    "        k += 1\n",
    "print(f\"Количество строк без нулей: {k}\")"
   ]
  },
  {
   "cell_type": "code",
   "execution_count": 44,
   "id": "14976427",
   "metadata": {},
   "outputs": [
    {
     "name": "stdout",
     "output_type": "stream",
     "text": [
      "Максимальное из чисел в матрице, встречающееся более одного раза: 8\n"
     ]
    }
   ],
   "source": [
    "max_elem = matrix.max()\n",
    "while True:\n",
    "    if np.count_nonzero(matrix == max_elem) > 1:\n",
    "        print(f\"Максимальное из чисел в матрице, встречающееся более одного раза: {max_elem}\")\n",
    "        break\n",
    "    else:\n",
    "        max_elem -= 1"
   ]
  }
 ],
 "metadata": {
  "kernelspec": {
   "display_name": "Python 3 (ipykernel)",
   "language": "python",
   "name": "python3"
  },
  "language_info": {
   "codemirror_mode": {
    "name": "ipython",
    "version": 3
   },
   "file_extension": ".py",
   "mimetype": "text/x-python",
   "name": "python",
   "nbconvert_exporter": "python",
   "pygments_lexer": "ipython3",
   "version": "3.9.13"
  }
 },
 "nbformat": 4,
 "nbformat_minor": 5
}
